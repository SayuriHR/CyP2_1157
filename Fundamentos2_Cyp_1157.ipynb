{
  "nbformat": 4,
  "nbformat_minor": 0,
  "metadata": {
    "colab": {
      "name": "Fundamentos2_Cyp_1157.ipynb",
      "provenance": [],
      "authorship_tag": "ABX9TyMKRWd1/lMXVF7zVPDF2mts",
      "include_colab_link": true
    },
    "kernelspec": {
      "name": "python3",
      "display_name": "Python 3"
    },
    "language_info": {
      "name": "python"
    }
  },
  "cells": [
    {
      "cell_type": "markdown",
      "metadata": {
        "id": "view-in-github",
        "colab_type": "text"
      },
      "source": [
        "<a href=\"https://colab.research.google.com/github/SayuriHR/CyP2_1157/blob/main/Fundamentos2_Cyp_1157.ipynb\" target=\"_parent\"><img src=\"https://colab.research.google.com/assets/colab-badge.svg\" alt=\"Open In Colab\"/></a>"
      ]
    },
    {
      "cell_type": "markdown",
      "metadata": {
        "id": "-bPY2cvUaKsq"
      },
      "source": [
        "## 04 de noviembre del 2021"
      ]
    },
    {
      "cell_type": "markdown",
      "metadata": {
        "id": "rIi4vujPFeFK"
      },
      "source": [
        "# Tipos de datos estructurados de python\n",
        "\n",
        "1. listas \n",
        "2. Tuplas\n",
        "3. diccionarios \n",
        "4. conjuntos \n"
      ]
    },
    {
      "cell_type": "markdown",
      "metadata": {
        "id": "GgPKlnThFrhT"
      },
      "source": [
        "# Listas \n",
        "\n",
        "- Tipo de dato que agrupa variables o valores \n",
        "-Estructura secuencial (undexados empezando por 0)\n",
        "- Se declara de dos formas #\n",
        "    - usando []\n",
        "    -usando list()\n",
        "    -usando un generador\n",
        "- puede contener tipos de datos diversos (en otors lenguajes programacion esos no es posible de forma directa)\n",
        "-Los elementos internos se seleccionan con [ ]\n",
        "-Soporta slicing \n",
        "- SON MUTABLES \n",
        "_GENERADORES [var for x in range(10)]\n",
        "- Al ser una clase contiene muchos metodos utiles "
      ]
    },
    {
      "cell_type": "code",
      "metadata": {
        "colab": {
          "base_uri": "https://localhost:8080/"
        },
        "id": "CDNWcT13Ghl5",
        "outputId": "0d530c42-5969-4006-d3e6-1e183ccbe835"
      },
      "source": [
        "numeros = [10, 5, 2, 3, 1]\n",
        "print(numeros)\n",
        "\n",
        "numeros2 = list()\n",
        "numeros2.append(10)\n",
        "numeros2.append(5)\n",
        "numeros2.append(3)\n",
        "numeros2.append(1)\n",
        "print(numeros2)\n",
        "numeros[2] = 20\n",
        "print(numeros)\n",
        "numeros[ -1] = 33\n",
        "numeros.append(88)\n",
        "print(numeros)\n"
      ],
      "execution_count": null,
      "outputs": [
        {
          "output_type": "stream",
          "name": "stdout",
          "text": [
            "[10, 5, 2, 3, 1]\n",
            "[10, 5, 3, 1]\n",
            "[10, 5, 20, 3, 1]\n",
            "[10, 5, 20, 3, 33, 88]\n"
          ]
        }
      ]
    },
    {
      "cell_type": "code",
      "metadata": {
        "colab": {
          "base_uri": "https://localhost:8080/"
        },
        "id": "wFubtkzhIdUy",
        "outputId": "61b0af44-4133-411c-abea-395423e76df8"
      },
      "source": [
        "# tipos diversos \n",
        "\n",
        "cosas = [12, 2, True ,\"Jose\", 1.57, [\"pera\", \"kiwi\", \"uva\"]]\n",
        "print(cosas)\n",
        "print( cosas[1] )\n",
        "print( cosas[ 4 ])\n",
        "print( cosas [ 5 ])\n",
        "print( cosas[5][1])\n",
        "print(cosas[3][1:3])\n",
        "cosas[3] = cosas[3].upper() #upper es para poner en mayusculas \n",
        "print(cosas)"
      ],
      "execution_count": null,
      "outputs": [
        {
          "output_type": "stream",
          "name": "stdout",
          "text": [
            "[12, 2, True, 'Jose', 1.57, ['pera', 'kiwi', 'uva']]\n",
            "2\n",
            "1.57\n",
            "['pera', 'kiwi', 'uva']\n",
            "kiwi\n",
            "os\n",
            "[12, 2, True, 'JOSE', 1.57, ['pera', 'kiwi', 'uva']]\n"
          ]
        }
      ]
    },
    {
      "cell_type": "code",
      "metadata": {
        "colab": {
          "base_uri": "https://localhost:8080/"
        },
        "id": "3OI2YM8qL2Ow",
        "outputId": "5c0931ef-1eea-42c9-e459-feb839f345ce"
      },
      "source": [
        "numeros =[1,2,3,4,5,6,7,8,9,10,11]\n",
        "print(numeros)\n",
        "#slicing \n",
        "#1. 4 al 8 \n",
        "print( numeros [3:8])\n",
        "#2.  [9,10]\n",
        "print(numeros [-3:-1])\n",
        "#3. imprimir la lsita en orden inverso [11,10,9,etc,1]\n",
        "print(numeros[::-1])  #indexado negativo \n",
        "print(numeros[::1])   #indexado positivo \n"
      ],
      "execution_count": null,
      "outputs": [
        {
          "output_type": "stream",
          "name": "stdout",
          "text": [
            "[1, 2, 3, 4, 5, 6, 7, 8, 9, 10, 11]\n",
            "[4, 5, 6, 7, 8]\n",
            "[9, 10]\n",
            "[11, 10, 9, 8, 7, 6, 5, 4, 3, 2, 1]\n",
            "[1, 2, 3, 4, 5, 6, 7, 8, 9, 10, 11]\n"
          ]
        }
      ]
    },
    {
      "cell_type": "code",
      "metadata": {
        "colab": {
          "base_uri": "https://localhost:8080/"
        },
        "id": "8U3F4vhSPnnl",
        "outputId": "e944c96c-7f2c-4dc1-8fd0-4947ec091038"
      },
      "source": [
        "# Crear una lista con un generador \n",
        "numeros =[x*3 for x in range(101) ] # el for es un generador \n",
        "print(numeros)"
      ],
      "execution_count": null,
      "outputs": [
        {
          "output_type": "stream",
          "name": "stdout",
          "text": [
            "[0, 3, 6, 9, 12, 15, 18, 21, 24, 27, 30, 33, 36, 39, 42, 45, 48, 51, 54, 57, 60, 63, 66, 69, 72, 75, 78, 81, 84, 87, 90, 93, 96, 99, 102, 105, 108, 111, 114, 117, 120, 123, 126, 129, 132, 135, 138, 141, 144, 147, 150, 153, 156, 159, 162, 165, 168, 171, 174, 177, 180, 183, 186, 189, 192, 195, 198, 201, 204, 207, 210, 213, 216, 219, 222, 225, 228, 231, 234, 237, 240, 243, 246, 249, 252, 255, 258, 261, 264, 267, 270, 273, 276, 279, 282, 285, 288, 291, 294, 297, 300]\n"
          ]
        }
      ]
    },
    {
      "cell_type": "markdown",
      "metadata": {
        "id": "Ayopu6_LQW-T"
      },
      "source": [
        "# funcion rango()\n",
        "\n",
        "tienen los mismo componentes que slicing \n",
        "ini , stop , incremento \n",
        "range(1,101,1)\n"
      ]
    },
    {
      "cell_type": "code",
      "metadata": {
        "colab": {
          "base_uri": "https://localhost:8080/"
        },
        "id": "ewCOYw4EQsXm",
        "outputId": "1b4d85a8-0b3f-4f2d-e1c7-80e1f7e4e284"
      },
      "source": [
        "numeros =[x for x in range(50, 101, 2) ] # patra empezar de un numero que quieras lo pones al principio \n",
        "print(numeros)                           # el ultimo numero 2 es como quieres que vaya "
      ],
      "execution_count": null,
      "outputs": [
        {
          "output_type": "stream",
          "name": "stdout",
          "text": [
            "[50, 52, 54, 56, 58, 60, 62, 64, 66, 68, 70, 72, 74, 76, 78, 80, 82, 84, 86, 88, 90, 92, 94, 96, 98, 100]\n"
          ]
        }
      ]
    },
    {
      "cell_type": "markdown",
      "metadata": {
        "id": "ukuCGRRORIx4"
      },
      "source": [
        "# metodos disponibles de las listas "
      ]
    },
    {
      "cell_type": "code",
      "metadata": {
        "colab": {
          "base_uri": "https://localhost:8080/"
        },
        "id": "G7kqLLo8RN_C",
        "outputId": "3ebe758d-9183-4a84-f7b6-8c75f812e38c"
      },
      "source": [
        "dir(list)"
      ],
      "execution_count": null,
      "outputs": [
        {
          "output_type": "execute_result",
          "data": {
            "text/plain": [
              "['__add__',\n",
              " '__class__',\n",
              " '__contains__',\n",
              " '__delattr__',\n",
              " '__delitem__',\n",
              " '__dir__',\n",
              " '__doc__',\n",
              " '__eq__',\n",
              " '__format__',\n",
              " '__ge__',\n",
              " '__getattribute__',\n",
              " '__getitem__',\n",
              " '__gt__',\n",
              " '__hash__',\n",
              " '__iadd__',\n",
              " '__imul__',\n",
              " '__init__',\n",
              " '__init_subclass__',\n",
              " '__iter__',\n",
              " '__le__',\n",
              " '__len__',\n",
              " '__lt__',\n",
              " '__mul__',\n",
              " '__ne__',\n",
              " '__new__',\n",
              " '__reduce__',\n",
              " '__reduce_ex__',\n",
              " '__repr__',\n",
              " '__reversed__',\n",
              " '__rmul__',\n",
              " '__setattr__',\n",
              " '__setitem__',\n",
              " '__sizeof__',\n",
              " '__str__',\n",
              " '__subclasshook__',\n",
              " 'append',\n",
              " 'clear',\n",
              " 'copy',\n",
              " 'count',\n",
              " 'extend',\n",
              " 'index',\n",
              " 'insert',\n",
              " 'pop',\n",
              " 'remove',\n",
              " 'reverse',\n",
              " 'sort']"
            ]
          },
          "metadata": {},
          "execution_count": 31
        }
      ]
    },
    {
      "cell_type": "markdown",
      "metadata": {
        "id": "kQO2V95CRm4f"
      },
      "source": [
        "  -count: recibe un valor cuantos elementos coinciden.\n",
        "  -extend: contatenar listas. \n",
        "  -index  los busca \n",
        "  -insert: resive dos variables \n",
        "  -pop: toma el ultimo elemnto y lo quita de la lsita y lo regresa\n",
        "  -remove: hace lo contario que insert quieta el elelmnto y si mueves a la izquierda lo mueve \n",
        "  -reverse: las pone en orden ineverso de lista \n",
        "sort: "
      ]
    },
    {
      "cell_type": "code",
      "metadata": {
        "colab": {
          "base_uri": "https://localhost:8080/"
        },
        "id": "hpD_wF5eSZgM",
        "outputId": "f3d0fe40-2aec-4de1-b314-c662cf1a456c"
      },
      "source": [
        "numeros =[4,1,15,8,22,34,50 ]\n",
        "print(numeros )\n",
        "numeros.append(99) # se agrego el numero 99\n",
        "print(numeros )\n",
        "#numeros.clear() hacerlos con este metodo \n",
        "#numeros = [ ]\n",
        "print(numeros )\n",
        "\n",
        "frutas =[\"uvas\",\"kiwi\",\"manzana\" ]\n",
        "copia = frutas \n",
        "print( frutas)\n",
        "print(copia )\n",
        "frutas.append(\"naranja\")\n",
        "print(frutas)\n",
        "print(copia)\n",
        "\n",
        "#esta uya hace una copia independientede la lista original esta ya no est afectada \n",
        "colores = [\"rojo\",\"azul\",\"blanco\"]\n",
        "copia2 = colores.copy()\n",
        "print(colores)\n",
        "print(copia2)\n",
        "colores.append(\"verde\")\n",
        "print(colores)\n",
        "print(copia2)\n",
        "\n",
        "print(\"numero de veces que aparce el 15=\", numeros.count(15))\n",
        "\n",
        "#extend \n",
        "\n",
        "nombres=[\"jose\", \"pedro\", \"karina\"]\n",
        "otrosNombres =[\"josue\",\"diana\", \"dalia\"]\n",
        "print(nombres)\n",
        "print(otrosNombres)\n",
        "\n",
        "nombre = nombres + otrosNombres\n",
        "print(nombres)\n",
        "print(otrosNombres)\n",
        "\n",
        "\n",
        "#lo mismo con el metodo extend \n",
        "otrosNombres.extend([\"jesus\",\"maria\",\"jose\"])\n",
        "print(otrosNombres)\n",
        "print(\"jesus esta en la posiscion:\", otrosNombres.index(\"jesus\") )\n",
        "otrosNombres.insert(4, \"espiritu santo\")\n",
        "print(otrosNombres)\n",
        "\n",
        "#pop\n",
        "resultado = otrosNombres.pop()\n",
        "print(otrosNombres)\n",
        "print(resultado)"
      ],
      "execution_count": null,
      "outputs": [
        {
          "output_type": "stream",
          "name": "stdout",
          "text": [
            "[4, 1, 15, 8, 22, 34, 50]\n",
            "[4, 1, 15, 8, 22, 34, 50, 99]\n",
            "[4, 1, 15, 8, 22, 34, 50, 99]\n",
            "['uvas', 'kiwi', 'manzana']\n",
            "['uvas', 'kiwi', 'manzana']\n",
            "['uvas', 'kiwi', 'manzana', 'naranja']\n",
            "['uvas', 'kiwi', 'manzana', 'naranja']\n",
            "['rojo', 'azul', 'blanco']\n",
            "['rojo', 'azul', 'blanco']\n",
            "['rojo', 'azul', 'blanco', 'verde']\n",
            "['rojo', 'azul', 'blanco']\n",
            "numero de veces que aparce el 15= 1\n",
            "['jose', 'pedro', 'karina']\n",
            "['josue', 'diana', 'dalia']\n",
            "['jose', 'pedro', 'karina']\n",
            "['josue', 'diana', 'dalia']\n",
            "['josue', 'diana', 'dalia', 'jesus', 'maria', 'jose']\n",
            "jesus esta en la posiscion: 3\n",
            "['josue', 'diana', 'dalia', 'jesus', 'espiritu santo', 'maria', 'jose']\n",
            "['josue', 'diana', 'dalia', 'jesus', 'espiritu santo', 'maria']\n",
            "jose\n"
          ]
        }
      ]
    },
    {
      "cell_type": "markdown",
      "metadata": {
        "id": "2Kk1V4X1IMnq"
      },
      "source": [
        "##09 de noviembre  del 2021"
      ]
    },
    {
      "cell_type": "markdown",
      "metadata": {
        "id": "gKTgbXgMv7h4"
      },
      "source": [
        "#Tuplas \n",
        "### Caracteristicas de la tuplas  \n",
        "- son datos agrupados \n",
        "-se declara usando#\n",
        "  -()\n",
        "  -tuple()\n",
        "-es una estructura secuencial(esta indexada apartir de 0 al igual que las listas)\n",
        "-pueden tener 0 a n elementos \n",
        "-NO SON MUTABLES (no se puede modificar eliminar cambiar)\n",
        "-Son buenas para alamacenar informacion de consulta.\n",
        "-pueden alamcenar informacion de diferentes tipos de dato.\n",
        "-pueden estar anidadas \n",
        "-Tienen metodos utiles "
      ]
    },
    {
      "cell_type": "code",
      "metadata": {
        "colab": {
          "base_uri": "https://localhost:8080/"
        },
        "id": "B3g059gMw81P",
        "outputId": "e02ce21c-e708-4803-859c-6c880aed9808"
      },
      "source": [
        "info = (\"juan23\" ,\"dios1234\",\"123.232.1.12\" )\n",
        "print( info )\n",
        "print(info[ 1 ])\n",
        "#info[ 1 ] = \"patito23\" es una tupla no se puede modificar \n",
        "\n",
        "numeros = (0,1,2,3,4,5,6,7,8,9,10,11,12,13,14,15)\n",
        "print(numeros)\n",
        "print(numeros[5:11])\n",
        "\n",
        "cosas = ( info , numeros )\n",
        "print(cosas)\n",
        "print (cosas[1][5:11])\n",
        "print(cosas [0][2][4:7])\n",
        "print(cosas [0][2][-8:-5])"
      ],
      "execution_count": null,
      "outputs": [
        {
          "output_type": "stream",
          "name": "stdout",
          "text": [
            "('juan23', 'dios1234', '123.232.1.12')\n",
            "dios1234\n",
            "(0, 1, 2, 3, 4, 5, 6, 7, 8, 9, 10, 11, 12, 13, 14, 15)\n",
            "(5, 6, 7, 8, 9, 10)\n",
            "(('juan23', 'dios1234', '123.232.1.12'), (0, 1, 2, 3, 4, 5, 6, 7, 8, 9, 10, 11, 12, 13, 14, 15))\n",
            "(5, 6, 7, 8, 9, 10)\n",
            "232\n",
            "232\n"
          ]
        }
      ]
    },
    {
      "cell_type": "markdown",
      "metadata": {
        "id": "SYJXWmKG0lgz"
      },
      "source": [
        "# metodos de las tuplas \n",
        "son los mismos que las listas pero los que no involucran mutabilidad "
      ]
    },
    {
      "cell_type": "code",
      "metadata": {
        "id": "DvC0h03Y0kpE"
      },
      "source": [
        "dir(tuple)\n"
      ],
      "execution_count": null,
      "outputs": []
    },
    {
      "cell_type": "markdown",
      "metadata": {
        "id": "xEerx5rB2t_s"
      },
      "source": [
        "#DICCIONARIO\n",
        "### Caracteristicas de los diccionarios \n",
        "\n",
        "- Agrupan datos pero de forma no lineal \n",
        "- se declaran con\n",
        "  -{}\n",
        "  -dict()\n",
        "- Formado por pares del tipo llave:valor, donde :\n",
        "  - Llave es de tipo string(siempre)\n",
        "  - valor puede ser de cualquier \n",
        "  tipo de datos, inclueyendo las diccionarios \n",
        "  - Se seleccionan con la llave de la forma: [\"id_llave\"]\n",
        "- Son mutables\n",
        "- Son equivalentes al tipo de dato JSON del lenguaje JavaScrib (JS)"
      ]
    },
    {
      "cell_type": "code",
      "metadata": {
        "colab": {
          "base_uri": "https://localhost:8080/"
        },
        "id": "U20BS7hH39cC",
        "outputId": "b8ce090d-534c-41a0-9b84-52fa9637f6cd"
      },
      "source": [
        "alumno ={\"nombre\":\"jose\"} # son elemntos no lineales \n",
        "print(alumno)\n",
        "print(alumno[\"nombre\"])\n",
        "alumno ={\"nombre\":\"jose\", \"nc\":\"21456878913\",\"edad\":19}\n",
        "print(\"Edad del alumno=\" ,alumno[\"edad\"])\n",
        "print(alumno[\"nombre\"].upper())\n",
        "\n",
        "alumno2 =dict() #{ }\n",
        "alumno2[\"nombre\"] = \"jose\"\n",
        "print(alumno2)\n",
        "alumno2[\"nc\"] = 21456878913\n",
        "alumno2[\"edad\"] =19\n",
        "print(alumno2)\n",
        "alumno2[\"edad\"] =alumno2[\"edad\"]+1\n",
        "print(alumno2)\n"
      ],
      "execution_count": null,
      "outputs": [
        {
          "output_type": "stream",
          "name": "stdout",
          "text": [
            "{'nombre': 'jose'}\n",
            "jose\n",
            "Edad del alumno= 19\n",
            "JOSE\n",
            "{'nombre': 'jose'}\n",
            "{'nombre': 'jose', 'nc': 21456878913, 'edad': 19}\n",
            "{'nombre': 'jose', 'nc': 21456878913, 'edad': 20}\n"
          ]
        }
      ]
    },
    {
      "cell_type": "code",
      "metadata": {
        "colab": {
          "base_uri": "https://localhost:8080/"
        },
        "id": "Lqv9DAHA8Qb3",
        "outputId": "fe06399a-3d0d-45a5-ddbe-f43ae9d15b6f"
      },
      "source": [
        "cliente ={ \"id\":\"CT2121\" , \n",
        "          \"nombre\": \"Jose Pedrazo Gonzales\" , \n",
        "          \"telefonos\":\"casa=5514897824 cel=51748912\"}\n",
        "print(cliente)\n",
        "cliente ={ \"id\":\"CT2121\" , \n",
        "          \"nombre\": {\n",
        "              \"nombres\" : [\"Jose\",\"eduardo\"],\n",
        "              \"paterno\" : \"pedraza\" ,\n",
        "              \"materno\" : \"rosales\"\n",
        "              } , \n",
        "          \"telefonos\":{\n",
        "              \"casa\":\"5537346928\",\n",
        "              \"trabajo\":\"554789614\",\n",
        "              \"celular\":\"551247984\"\n",
        "          },\n",
        "          \"productos\":{\n",
        "              \"ahorros\":{\"numero _cuenta\":\"7788\",\"ahorro\": 2500.5},\n",
        "              \"tarjetas\":[\n",
        "                           {\"tipo\":\"debito\",\"saldo\": 10000.5},\n",
        "                           {\"tipo\":\"credito preferente\" , \"limite\":2500000.5},\n",
        "                           {\"tipo\":\"lite\", \"limite\": 15000.5}\n",
        "              ]\n",
        "          },\n",
        "          \"direccion\":{\n",
        "              \"calle\":\"Av. central\",\n",
        "              \"numero\":1245,\n",
        "              \"colonia\":\"impulsora\",\n",
        "              \"delegacion\":\"neza\",\n",
        "              \"estado\":{\n",
        "                   \"clave\":15,\n",
        "                   \"nombre_corto\":\"EdoMex\",\n",
        "                   \"nombre\":\"Estado de Mexico\"\n",
        "\n",
        "              }\n",
        "          }\n",
        "          }\n",
        "print( cliente[\"telefonos\"][\"casa\"])\n",
        "print(cliente )\n",
        "print(cliente[\"productos\"][\"ahorros\"][\"ahorro\"])\n",
        "print( cliente [\"productos\"][\"tarjetas\"][2][\"limite\"])\n",
        "print(cliente[\"direccion\"][\"estado\"][\"nombre\"].upper())\n",
        "print(cliente[\"productos\"][\"ahorros\"][\"ahorro\"]-1500)\n",
        "print(cliente [\"productos\"])\n"
      ],
      "execution_count": null,
      "outputs": [
        {
          "output_type": "stream",
          "name": "stdout",
          "text": [
            "{'id': 'CT2121', 'nombre': 'Jose Pedrazo Gonzales', 'telefonos': 'casa=5514897824 cel=51748912'}\n",
            "5537346928\n",
            "{'id': 'CT2121', 'nombre': {'nombres': ['Jose', 'eduardo'], 'paterno': 'pedraza', 'materno': 'rosales'}, 'telefonos': {'casa': '5537346928', 'trabajo': '554789614', 'celular': '551247984'}, 'productos': {'ahorros': {'numero _cuenta': '7788', 'ahorro': 2500.5}, 'tarjetas': [{'tipo': 'debito', 'saldo': 10000.5}, {'tipo': 'credito preferente', 'limite': 2500000.5}, {'tipo': 'lite', 'limite': 15000.5}]}, 'direccion': {'calle': 'Av. central', 'numero': 1245, 'colonia': 'impulsora', 'delegacion': 'neza', 'estado': {'clave': 15, 'nombre_corto': 'EdoMex', 'nombre': 'Estado de Mexico'}}}\n",
            "2500.5\n",
            "15000.5\n",
            "ESTADO DE MEXICO\n",
            "1000.5\n",
            "{'ahorros': {'numero _cuenta': '7788', 'ahorro': 2500.5}, 'tarjetas': [{'tipo': 'debito', 'saldo': 10000.5}, {'tipo': 'credito preferente', 'limite': 2500000.5}, {'tipo': 'lite', 'limite': 15000.5}]}\n"
          ]
        }
      ]
    },
    {
      "cell_type": "markdown",
      "metadata": {
        "id": "IALYldEaQHHy"
      },
      "source": [
        "#11 de noviembre del 2021"
      ]
    },
    {
      "cell_type": "code",
      "metadata": {
        "colab": {
          "base_uri": "https://localhost:8080/"
        },
        "id": "KeQUMJCUJudk",
        "outputId": "ac37cd4d-e3ab-4688-d934-b3e2acfbb918"
      },
      "source": [
        "pelicula = {\"nombre\" : \"Harry Potter y la piedra filosofal\" ,\n",
        "            \"autores principales \" : [\"Harry, Hermione  , Ron \" ] , \n",
        "            \"apellidos \": \"Potter, Grange ,Weasley\"}\n",
        "print(pelicula)\n",
        "pelicula = {\"director\": \"Chris Columbs\",\n",
        "            \"año\":\"2001\" ,\n",
        "            \"fecha de estreno\": \"23 de noviembre de 2001\"},\n",
        "print(pelicula)\n"
      ],
      "execution_count": null,
      "outputs": [
        {
          "output_type": "stream",
          "name": "stdout",
          "text": [
            "{'nombre': 'Harry Potter y la piedra filosofal', 'autores principales ': ['Harry, Hermione  , Ron '], 'apellidos ': 'Potter, Grange ,Weasley'}\n",
            "({'director': 'Chris Columbs', 'año': '2001', 'fecha de estreno': '23 de noviembre de 2001'},)\n"
          ]
        }
      ]
    },
    {
      "cell_type": "markdown",
      "metadata": {
        "id": "NXJpxnsMNp17"
      },
      "source": [
        "#Estuctura de control de programacion \n",
        "\n",
        "Se puede crear cualquier tipo de algoritmo empleando solamente 3 estruycturas de control:  \n",
        "\n",
        "1. Secuencia: \n",
        "    - la representacion de la memoria de pograma (arquitectura Vonn Newman)\n",
        "2. Seleccion: \n",
        "      - Es la estrucutura de control que decide sin un bloque de pograma se ejecuta o no se ejecuta. Tambien permite seleccionar ejecutar un bloque entre un conjunto de opciones.\n",
        "      En resumen tenemos: seleccion simple, seleccion con bifurcacion y seleccion multiple.\n",
        "\n",
        "3. Repeticion: \n",
        "      - este tipo de estrutura nos permite automizar la ejecucion repetitiva de codigo mientras ciertas condiciones a cumplan, tenemos 3 variantes de esta estructura en todos los lenguajes de pogramacion: \n",
        "    - desde ... hasta ( estructura for )\n",
        "    - haz mientras (structura While)\n",
        "    - haz y luego validaz mientras (estructura Do-While)"
      ]
    },
    {
      "cell_type": "markdown",
      "metadata": {
        "id": "6UrWS6K5SBoN"
      },
      "source": [
        "# seleccion simple \n",
        "-- documentar o poner notas \n",
        "```\n",
        "la estructura if \n",
        "```\n",
        "if <condicion> : \n",
        "    <cuerpo del If>\n",
        "\n",
        "**Nota** para establecer el cuerpo de una estructura de control en Python se usan los tabuladores a la izq.\n",
        "En otro lenguajes de programcion comjava , c y c++.... se usan las llaves {} \n",
        "```\n",
        "int edad =0\n",
        "print(\"dame tu edad\")\n",
        "scanf(\"si\",edad);\n",
        "if (edad >=18){\n",
        "  print(\"ERES MAYOR DE EDAD\");\n",
        "}\n",
        "print(\"fin de programa\")\n",
        "\n"
      ]
    },
    {
      "cell_type": "code",
      "metadata": {
        "colab": {
          "base_uri": "https://localhost:8080/"
        },
        "id": "g74zrU0XPoBP",
        "outputId": "6f9c7880-6129-4426-a97d-8dedbc15ec82"
      },
      "source": [
        "edad = int (input(\"dame tu edad:\"))\n",
        "print(f\"tecleaste {edad} años \")\n",
        "if edad >=18 :\n",
        "    print(\"ERES MAYOR DE EDAD\")\n",
        "    print(\"Algo\")\n",
        "print(\"Otra cosa \")\n",
        "print(\"Fin de programa\") #los tabuladores se utilizan patra determinar la estructura "
      ],
      "execution_count": null,
      "outputs": [
        {
          "output_type": "stream",
          "name": "stdout",
          "text": [
            "dame tu edad:16\n",
            "tecleaste 16 años \n",
            "Otra cosa \n",
            "Fin de programa\n"
          ]
        }
      ]
    },
    {
      "cell_type": "code",
      "metadata": {
        "colab": {
          "base_uri": "https://localhost:8080/"
        },
        "id": "gfYiejKEWaKq",
        "outputId": "0f9213e7-8240-4ef6-e79e-85f6b5b26235"
      },
      "source": [
        "CAL = float ( input(\"Dame tu calificación\"))\n",
        "if CAL > 8:\n",
        "  print(\"aprobado\")\n",
        "print(\"Fin del programa\")"
      ],
      "execution_count": null,
      "outputs": [
        {
          "output_type": "stream",
          "name": "stdout",
          "text": [
            "Dame tu calificación7.99\n",
            "Fin del programa\n"
          ]
        }
      ]
    },
    {
      "cell_type": "code",
      "metadata": {
        "colab": {
          "base_uri": "https://localhost:8080/"
        },
        "id": "e1jiMJL3Xhez",
        "outputId": "a7707bf1-161a-4933-cfc6-2c4e3121319d"
      },
      "source": [
        "SUE = float(input(\"Escribe el sueldo: \"))\n",
        "AUM = 0 \n",
        "MSUE = 0\n",
        "\n",
        "if SUE < 1000 :\n",
        "    AUM = SUE* 0.15\n",
        "    MSUE = SUE + AUM\n",
        "    print(MSUE)"
      ],
      "execution_count": null,
      "outputs": [
        {
          "output_type": "stream",
          "name": "stdout",
          "text": [
            "Escribe el sueldo: 875.50\n",
            "1006.825\n"
          ]
        }
      ]
    },
    {
      "cell_type": "markdown",
      "metadata": {
        "id": "xshvXTRxeo98"
      },
      "source": [
        "# 18 de noviembre del 2021"
      ]
    },
    {
      "cell_type": "markdown",
      "metadata": {
        "id": "cEVMLPiOGmRl"
      },
      "source": [
        "#EStructura de seleccion con  bifurcacion (if-else)\n",
        "\n",
        "Esta estructuraa, selecciona una de dos opciones de ejecucion, se ejecuta un bloque si la condiccion se cumple o se ejecuta otor bloque si la condicion no se cumple (else).\n",
        "\n",
        "```\n",
        "if <condicion> : \n",
        "    <bloque de ejecucion>\n",
        "else:\n",
        "        <bloque de ejecucion alterno>\n",
        "```"
      ]
    },
    {
      "cell_type": "code",
      "metadata": {
        "colab": {
          "base_uri": "https://localhost:8080/"
        },
        "id": "HmRyI_OxHiEc",
        "outputId": "c2161e9d-25ab-425c-9632-419d79dc38cc"
      },
      "source": [
        "edad = int(input(\"dame tu edad:\"))\n",
        "print(f\"teclaste {edad} años\")\n",
        "if edad >= 18:\n",
        "    print(\"Eres mayor de edad, ten tu cheve\")\n",
        "else:\n",
        "    print(\"Eres menor de edad, ten tu boing de mango\")\n",
        "print(\"fin del prrograma\")\n",
        "  "
      ],
      "execution_count": null,
      "outputs": [
        {
          "output_type": "stream",
          "name": "stdout",
          "text": [
            "dame tu edad:15\n",
            "teclaste 15 años\n",
            "Eres menor de edad, ten tu boing de mango\n",
            "fin del prrograma\n"
          ]
        }
      ]
    },
    {
      "cell_type": "code",
      "metadata": {
        "colab": {
          "base_uri": "https://localhost:8080/"
        },
        "id": "Mdp8un7qJKoZ",
        "outputId": "795d7a96-8591-49d3-a6b0-af6c4186a138"
      },
      "source": [
        "# $36 \n",
        "edad=int(input(\"¿Que edad tienes?: \"))\n",
        "dinero=float(input(\"¿Cuanto dinero tienes?: \"))\n",
        "print(f\"Tecleaste {edad} años\")\n",
        "print(f\"Tecleaste {dinero} pesos\")\n",
        "if edad >=18 and dinero >=36:\n",
        "    print(\"Eres mayor de edad, ten tu cheve\")\n",
        "else:\n",
        "    print(\"Eres menor de edad, ten tu boing\")\n",
        "print(\"Fin del progrma\")"
      ],
      "execution_count": null,
      "outputs": [
        {
          "output_type": "stream",
          "name": "stdout",
          "text": [
            "¿Que edad tienes?: 19\n",
            "¿Cuanto dinero tienes?: 37\n",
            "Tecleaste 19 años\n",
            "Tecleaste 37.0 pesos\n",
            "Eres mayor de edad, ten tu cheve\n",
            "Fin del progrma\n"
          ]
        }
      ]
    },
    {
      "cell_type": "code",
      "metadata": {
        "colab": {
          "base_uri": "https://localhost:8080/"
        },
        "id": "KMqc9rdPMvGz",
        "outputId": "6ef830c9-3eff-460a-e11f-df540990c65e"
      },
      "source": [
        "edad = int(input(\"Dame tu edad: \"))\n",
        "dinero = float(input(\"Cuanto dinero tienes: \"))\n",
        "print(f\"Tecleaste {edad} años\")\n",
        "print(f\"Tecleaste {dinero} dinero\")\n",
        "if edad >= 18 :\n",
        "    if dinero >=36 :\n",
        "        print(\"Ten tu cheve\")\n",
        "    else:\n",
        "        print(\"tienes la edad pero no tienes dinero suficiente\")\n",
        "if dinero >= 36 :\n",
        "    print(\"Tienes dinero suficiente pero no tienes la edad\")\n",
        "else:\n",
        "    print(\"No tienes la edad ni el dinero, ve a jugar roblox a tu casa\")"
      ],
      "execution_count": null,
      "outputs": [
        {
          "output_type": "stream",
          "name": "stdout",
          "text": [
            "Dame tu edad: 19\n",
            "Cuanto dinero tienes: 60\n",
            "Tecleaste 19 años\n",
            "Tecleaste 60.0 dinero\n",
            "Ten tu cheve\n",
            "Tienes dinero suficiente pero no tienes la edad\n"
          ]
        }
      ]
    },
    {
      "cell_type": "markdown",
      "metadata": {
        "id": "vyz61G1GMvlo"
      },
      "source": [
        "El codigo anterior se puede simplificar usando uan plabara reservada especial que existe en algunos lenguajes de programcion"
      ]
    },
    {
      "cell_type": "code",
      "metadata": {
        "colab": {
          "base_uri": "https://localhost:8080/"
        },
        "id": "pj9SfS0LNbD_",
        "outputId": "4a85e27d-d1f3-4f50-fbe0-345d6ceebb4e"
      },
      "source": [
        "edad = int(input(\"Dame tu edad: \"))\n",
        "dinero = float(input(\"Cuanto dinero tienes: \"))\n",
        "print(f\"Tecleaste {edad} años\")\n",
        "print(f\"Tecleaste {dinero} dinero\")\n",
        "if edad >= 18 :\n",
        "    if dinero >=36 :\n",
        "        print(\"Ten tu cheve\")\n",
        "    else:\n",
        "        print(\"tienes la edad pero no tienes dinero suficiente\")\n",
        "elif dinero >= 36 :\n",
        "    print(\"Tienes dinero suficiente pero no tienes la edad\")\n",
        "else:\n",
        "    print(\"No tienes la edad ni el dinero, ve a jugar roblox a tu casa\")"
      ],
      "execution_count": null,
      "outputs": [
        {
          "output_type": "stream",
          "name": "stdout",
          "text": [
            "Dame tu edad: 15\n",
            "Cuanto dinero tienes: 60\n",
            "Tecleaste 15 años\n",
            "Tecleaste 60.0 dinero\n",
            "Tienes dinero suficiente pero no tienes la edad\n"
          ]
        }
      ]
    },
    {
      "cell_type": "code",
      "metadata": {
        "colab": {
          "base_uri": "https://localhost:8080/"
        },
        "id": "cC3_QBm6Os2Y",
        "outputId": "2def048f-4adb-4deb-a329-dd21eb20d082"
      },
      "source": [
        "CAL= float(input(\"Dame tu calificiación: \"))\n",
        "if CAL >= 8 :\n",
        "    print(\"Aprobado\")\n",
        "else: \n",
        "    print(\"Reprobado\")\n"
      ],
      "execution_count": null,
      "outputs": [
        {
          "output_type": "stream",
          "name": "stdout",
          "text": [
            "Dame tu calificiación: 7.5\n",
            "Reprobado\n"
          ]
        }
      ]
    },
    {
      "cell_type": "code",
      "metadata": {
        "colab": {
          "base_uri": "https://localhost:8080/"
        },
        "id": "0D2fMrrlPKYL",
        "outputId": "341309cd-c5b0-47bd-e333-a79e433c771b"
      },
      "source": [
        "#PROBLEMA 2.4\n",
        "SUE= float(input(\"Dame tu sueldo: \"))\n",
        "AUM = 0\n",
        "NSUE = 0\n",
        "\n",
        "if SUE <1000.0 :\n",
        "    AUM =SUE* 0.15\n",
        "    NSUE = SUE + AUM \n",
        "    print(NSUE)\n",
        "else:\n",
        "    AUM = SUE* 0.12\n",
        "    NSUE = SUE + AUM \n",
        "print(NSUE)  #aqui no afecta el print en donde este por que va adar la misma salida "
      ],
      "execution_count": null,
      "outputs": [
        {
          "output_type": "stream",
          "name": "stdout",
          "text": [
            "Dame tu sueldo: 1000\n",
            "1120.0\n"
          ]
        }
      ]
    },
    {
      "cell_type": "code",
      "metadata": {
        "id": "jbBcWYy5RUSw"
      },
      "source": [
        "#PROBLEMA 2.4\n",
        "SUE=float(input(\"Dame tu saldo: \"))\n",
        "if SUE<1000:\n",
        "     NSUE=SUE*1.12\n",
        "else:\n",
        "    NSUE=SUE*1.12\n",
        "print(f\"Tu nuevo sueldo es:{NSUE}\")"
      ],
      "execution_count": null,
      "outputs": []
    },
    {
      "cell_type": "markdown",
      "metadata": {
        "id": "0wNS7QI-SQgs"
      },
      "source": [
        "#ejerccio if-else \n",
        "### Hacer un progrma que solicita el dia de la semana de un valor numerico entero del 1 al 7(Avsarle al usuario si proporciono un valor fuera de rango).\n",
        "\n",
        "### Posteriormente imprimira el dia de la semana correspondiente al numero capturado \n",
        "\n",
        "1. lunes\n",
        "2. martes \n",
        "\n",
        "...\n",
        "\n",
        "7. domingo "
      ]
    },
    {
      "cell_type": "code",
      "metadata": {
        "colab": {
          "base_uri": "https://localhost:8080/"
        },
        "id": "iQ7x43aCS2_L",
        "outputId": "4eb3c51c-fdca-4629-f7d1-24936df592a2"
      },
      "source": [
        "dia=int(input(\"Dame el día de la semana del 1-7: \"))\n",
        "if dia is 1:\n",
        "    print(\"LUNES\")\n",
        "elif dia is 2:\n",
        "    print(\"MARTES\")\n",
        "elif dia is 3:\n",
        "    print(\"MIERCOLES\")\n",
        "elif dia is 4:\n",
        "    print(\"JUEVES\")\n",
        "elif dia is 5:\n",
        "    print(\"VIERNES\")\n",
        "elif dia is 6:\n",
        "    print(\"SÁBADO\")\n",
        "elif dia is 7:\n",
        "    print(\"DOMINGO\")\n",
        "else:\n",
        "    print(\"Debe ser un numero del 1 al 7, ingresa nuevamente\")"
      ],
      "execution_count": null,
      "outputs": [
        {
          "output_type": "stream",
          "name": "stdout",
          "text": [
            "Dame el día de la semana del 1-7: 5\n",
            "VIERNES\n"
          ]
        }
      ]
    },
    {
      "cell_type": "code",
      "metadata": {
        "colab": {
          "base_uri": "https://localhost:8080/"
        },
        "id": "at5vB0uRVAi2",
        "outputId": "fbb45196-d501-4c1c-c0d9-003400e860ff"
      },
      "source": [
        "dia = int(input(\"ingtresa un numero entre 1 y 7: \"))\n",
        "print(f\"Capturaste el numero {dia}\")\n",
        "\n",
        "if dia >=1 and dia <= 7:\n",
        "    if dia == 1:\n",
        "        print(\"lunes\")\n",
        "    else:\n",
        "        if dia == 2:\n",
        "            print(\"Martes\")\n",
        "        else:\n",
        "            if dia == 3:\n",
        "                print(\"miercoles\")\n",
        "            else:\n",
        "                if dia == 4:\n",
        "                    print(\"jueves\")\n",
        "                else:\n",
        "                    if dia == 5:\n",
        "                        print(\"viernes\")\n",
        "                    else:\n",
        "                        if dia == 6:\n",
        "                            print(\"sabado\")\n",
        "                        else:\n",
        "                                print(\"domingo\")\n",
        "\n",
        "                    \n",
        "                \n",
        "else:\n",
        "    print(\"Ese numero no esta dentro del rango solicitado\")"
      ],
      "execution_count": null,
      "outputs": [
        {
          "output_type": "stream",
          "name": "stdout",
          "text": [
            "ingtresa un numero entre 1 y 7: 6\n",
            "Capturaste el numero 6\n",
            "sabado\n"
          ]
        }
      ]
    },
    {
      "cell_type": "code",
      "metadata": {
        "id": "4EJ89uuGXw3B"
      },
      "source": [
        "# hacer un programa que pida dos numeros enteros y que imprima en pantalla lo siguiente:\n",
        " \n",
        "1. cual de ellos es el numero mayor\n",
        "2. cual de ellos es el numero menor\n",
        " o en su defecto\n",
        "Imprimir que los valores son iguales\n",
        " \n",
        "\"\"\" Hacer un programa que solicite  3 numeros enteros diferentes \n",
        "entre sí  y que imprima cual de los 3 es el mayor\n",
        "\"\"\"\n",
        " \n",
        "\"\"\" \n",
        "Hacer un programa que solicite  3 numeros enteros diferentes \n",
        "entre sí  y que imprima cual de los 3 es el menor\n",
        "\"\"\"\n",
        " \n",
        "\"\"\"\n",
        "Hacer un programa que solicite 4 numeros enteros diferentes entre si\n",
        "e imprima a la salida cual de ellos es el menor y cual de ellos es el mayor"
      ],
      "execution_count": null,
      "outputs": []
    },
    {
      "cell_type": "markdown",
      "metadata": {
        "id": "gTwvKBbWZj6-"
      },
      "source": [
        "# Selccion multiple (switch)\n",
        "en python no existe la estructura de selccion switch, en su luegar se emplea la plabara reservada:\n",
        "\n",
        "## elif <condicion>:\n",
        "\n",
        "por ejemplo en el lenjuage C y Java seria de la \n",
        "```\n",
        "float SUE =0.0;\n",
        "int CATE = 0;\n",
        "\n",
        "print(f\"Introduce la categoria:\");\n",
        "scanf(\"i\", &CATE);\n",
        "print(\"introduce el sueldo:\");\n",
        "scanf(\"f\", &SUE);\n",
        "\n",
        "switch(CATE){\n",
        "    case 1:\n",
        "        SUE = SUE * 1.15;\n",
        "        break;\n",
        "    case 3:\n",
        "        SUE= SUE * 1.08;\n",
        "        break;\n",
        "    case 4:\n",
        "        SUE = SUE * 1.07\n",
        "        break;\n",
        "}\n",
        "print(\"Categoria= i, Sueldo= f\"\n",
        "CATE,SUE)\n",
        "\n",
        "    \n"
      ]
    },
    {
      "cell_type": "code",
      "metadata": {
        "colab": {
          "base_uri": "https://localhost:8080/"
        },
        "id": "IpW9kJQPc3qk",
        "outputId": "497e4f74-ae1c-46e9-fd04-5e9b5a3c1b9f"
      },
      "source": [
        "# ejemplo 2.7\n",
        " \n",
        "NUM = int (input (\"dame un numero entre 1 y 3:\"))\n",
        "V = float (input (\"Dame un valor float:\"))\n",
        "VAL = 0\n",
        "if NUM == 1:\n",
        "    VAL = 100 * V\n",
        "elif NUM == 2:\n",
        "    VAL = 100 ** V\n",
        "elif NUM == 3:\n",
        "    VAL = 100 / V\n",
        "else:\n",
        "    VAL = 0\n",
        " \n",
        "print(VAL)"
      ],
      "execution_count": null,
      "outputs": [
        {
          "output_type": "stream",
          "name": "stdout",
          "text": [
            "dame un numero entre 1 y 3:1\n",
            "Dame un valor float:5\n",
            "500.0\n"
          ]
        }
      ]
    },
    {
      "cell_type": "code",
      "metadata": {
        "colab": {
          "base_uri": "https://localhost:8080/"
        },
        "id": "fIpzAIVO2BFr",
        "outputId": "71df0080-a459-4f1d-e157-af29236c6a8e"
      },
      "source": [
        "# ejemplo 2.8\n",
        "\n",
        "CATE = int(input(\"Introduce la categoria:\"))\n",
        "SUE = float(input(\"Introduce el sueldo:\"))\n",
        "\n",
        "if CATE==1:\n",
        "    SUE= SUE * 1.15;\n",
        "elif CATE==2:\n",
        "    SUE= SUE * 1.10;\n",
        "elif CATE ==3:\n",
        "    SUE== SUE * 1.08;\n",
        "elif CATE== 4:\n",
        "    SUE= SUE * 1.07;\n",
        "\n",
        "print(f\"Categoria= {CATE}, sueldo {SUE}\")"
      ],
      "execution_count": 16,
      "outputs": [
        {
          "output_type": "stream",
          "name": "stdout",
          "text": [
            "Introduce la categoria:2\n",
            "Introduce el sueldo:300\n",
            "Categoria= 2, sueldo 330.0\n"
          ]
        }
      ]
    },
    {
      "cell_type": "code",
      "metadata": {
        "colab": {
          "base_uri": "https://localhost:8080/"
        },
        "id": "WX92IqHg9HC_",
        "outputId": "7c250cdc-bbb3-4a6d-e26b-a51e7adc0742"
      },
      "source": [
        "A=int(input(\"Dame un primer numero entero: \"))\n",
        "B=int(input(\"Dame un segundo numero entero diferente: \"))\n",
        "C=int(input(\"Dame un tercer numero entero diferente: \"))\n",
        "\n",
        "if A==B==C:\n",
        "    if A==B: \n",
        "        if A==C: \n",
        "            if B==C:\n",
        "                print(\"Deben ser tres numeros diferentes\")\n",
        "if A>B:\n",
        "    if A>C: \n",
        "        if B>C:\n",
        "            print(\"De mayor a menor : \",A, B, C)\n",
        "        else:\n",
        "            print(\"De mayor a menor : \",A, C, B)\n",
        "    else: print(\"De mayor a menor  : \",C, A, B)\n",
        "else:\n",
        "    if B>C: \n",
        "    \n",
        "        if A>C:\n",
        "            print(\"De mayor a menor : \",B, A, C)\n",
        "        else:\n",
        "            print(\"De mayor a menor : \",B, C, A)\n",
        "    else: print(\"De mayor a menor : \",C, B, A)\n",
        "\n",
        "print(\"Fin del progrma \")"
      ],
      "execution_count": 13,
      "outputs": [
        {
          "output_type": "stream",
          "name": "stdout",
          "text": [
            "Dame un primer numero entero: 8\n",
            "Dame un segundo numero entero diferente: 7\n",
            "Dame un tercer numero entero diferente: 9\n",
            "De mayor a menor  :  9 8 7\n",
            "Fin del progrma \n"
          ]
        }
      ]
    },
    {
      "cell_type": "code",
      "metadata": {
        "colab": {
          "base_uri": "https://localhost:8080/"
        },
        "id": "CIU9pnzDB0Bt",
        "outputId": "c2f393b6-6956-44ca-e6ce-08c37ab7ad67"
      },
      "source": [
        "# problea 2.14\n",
        "TIPOENF = int(input(\"Introduce el tipo de enfermedad:\"))\n",
        "EDAD =int(input(\"Introduce la edad:\"))\n",
        "DIAS = int(input(\"Introduce el numero de dias:\"))\n",
        "COSTO = 0.0\n",
        "if TIPOENF ==1:\n",
        "    COSTO = DIAS * 25.0\n",
        "elif TIPOENF ==2:\n",
        "    COSTO = DIAS * 16.0\n",
        "elif TIPOENF ==3:\n",
        "    COSTO = DIAS * 20.0\n",
        "elif TIPOENF ==4:\n",
        "    COSTO = DIAS * 32.0\n",
        "\n",
        "if EDAD >= 14 and EDAD <=22:\n",
        "    COSTO = COSTO * 1.10\n",
        "print(\"Costo Total =$\",COSTO)\n",
        "print(f\"Se pago ${COSTO} pesos por {DIAS} dias de estancia\")\n",
        "\n"
      ],
      "execution_count": 20,
      "outputs": [
        {
          "output_type": "stream",
          "name": "stdout",
          "text": [
            "Introduce el tipo de enfermedad:3\n",
            "Introduce la edad:35\n",
            "Introduce el numero de dias:4\n",
            "Costo Total =$ 80.0\n",
            "Se pago $80.0 pesos por 4 dias de estancia\n"
          ]
        }
      ]
    }
  ]
}