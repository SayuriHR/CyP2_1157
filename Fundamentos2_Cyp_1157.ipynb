{
  "nbformat": 4,
  "nbformat_minor": 0,
  "metadata": {
    "colab": {
      "name": "Fundamentos2_Cyp_1157.ipynb",
      "provenance": []
    },
    "kernelspec": {
      "name": "python3",
      "display_name": "Python 3"
    },
    "language_info": {
      "name": "python"
    }
  },
  "cells": [
    {
      "cell_type": "markdown",
      "metadata": {
        "id": "-bPY2cvUaKsq"
      },
      "source": [
        "## 04 de noviembre del 2021"
      ]
    },
    {
      "cell_type": "markdown",
      "metadata": {
        "id": "rIi4vujPFeFK"
      },
      "source": [
        "# Tipos de datos estructurados de python\n",
        "\n",
        "1. listas \n",
        "2. Tuplas\n",
        "3. diccionarios \n",
        "4. conjuntos \n"
      ]
    },
    {
      "cell_type": "markdown",
      "metadata": {
        "id": "GgPKlnThFrhT"
      },
      "source": [
        "# Listas \n",
        "\n",
        "- Tipo de dato que agrupa variables o valores \n",
        "-Estructura secuencial (undexados empezando por 0)\n",
        "- Se declara de dos formas #\n",
        "    - usando []\n",
        "    -usando list()\n",
        "    -usando un generador\n",
        "- puede contener tipos de datos diversos (en otors lenguajes programacion esos no es posible de forma directa)\n",
        "-Los elementos internos se seleccionan con [ ]\n",
        "-Soporta slicing \n",
        "- SON MUTABLES \n",
        "_GENERADORES [var for x in range(10)]\n",
        "- Al ser una clase contiene muchos metodos utiles "
      ]
    },
    {
      "cell_type": "code",
      "metadata": {
        "colab": {
          "base_uri": "https://localhost:8080/"
        },
        "id": "CDNWcT13Ghl5",
        "outputId": "0d530c42-5969-4006-d3e6-1e183ccbe835"
      },
      "source": [
        "numeros = [10, 5, 2, 3, 1]\n",
        "print(numeros)\n",
        "\n",
        "numeros2 = list()\n",
        "numeros2.append(10)\n",
        "numeros2.append(5)\n",
        "numeros2.append(3)\n",
        "numeros2.append(1)\n",
        "print(numeros2)\n",
        "numeros[2] = 20\n",
        "print(numeros)\n",
        "numeros[ -1] = 33\n",
        "numeros.append(88)\n",
        "print(numeros)\n"
      ],
      "execution_count": 16,
      "outputs": [
        {
          "output_type": "stream",
          "name": "stdout",
          "text": [
            "[10, 5, 2, 3, 1]\n",
            "[10, 5, 3, 1]\n",
            "[10, 5, 20, 3, 1]\n",
            "[10, 5, 20, 3, 33, 88]\n"
          ]
        }
      ]
    },
    {
      "cell_type": "code",
      "metadata": {
        "colab": {
          "base_uri": "https://localhost:8080/"
        },
        "id": "wFubtkzhIdUy",
        "outputId": "61b0af44-4133-411c-abea-395423e76df8"
      },
      "source": [
        "# tipos diversos \n",
        "\n",
        "cosas = [12, 2, True ,\"Jose\", 1.57, [\"pera\", \"kiwi\", \"uva\"]]\n",
        "print(cosas)\n",
        "print( cosas[1] )\n",
        "print( cosas[ 4 ])\n",
        "print( cosas [ 5 ])\n",
        "print( cosas[5][1])\n",
        "print(cosas[3][1:3])\n",
        "cosas[3] = cosas[3].upper() #upper es para poner en mayusculas \n",
        "print(cosas)"
      ],
      "execution_count": 17,
      "outputs": [
        {
          "output_type": "stream",
          "name": "stdout",
          "text": [
            "[12, 2, True, 'Jose', 1.57, ['pera', 'kiwi', 'uva']]\n",
            "2\n",
            "1.57\n",
            "['pera', 'kiwi', 'uva']\n",
            "kiwi\n",
            "os\n",
            "[12, 2, True, 'JOSE', 1.57, ['pera', 'kiwi', 'uva']]\n"
          ]
        }
      ]
    },
    {
      "cell_type": "code",
      "metadata": {
        "colab": {
          "base_uri": "https://localhost:8080/"
        },
        "id": "3OI2YM8qL2Ow",
        "outputId": "5c0931ef-1eea-42c9-e459-feb839f345ce"
      },
      "source": [
        "numeros =[1,2,3,4,5,6,7,8,9,10,11]\n",
        "print(numeros)\n",
        "#slicing \n",
        "#1. 4 al 8 \n",
        "print( numeros [3:8])\n",
        "#2.  [9,10]\n",
        "print(numeros [-3:-1])\n",
        "#3. imprimir la lsita en orden inverso [11,10,9,etc,1]\n",
        "print(numeros[::-1])  #indexado negativo \n",
        "print(numeros[::1])   #indexado positivo \n"
      ],
      "execution_count": 26,
      "outputs": [
        {
          "output_type": "stream",
          "name": "stdout",
          "text": [
            "[1, 2, 3, 4, 5, 6, 7, 8, 9, 10, 11]\n",
            "[4, 5, 6, 7, 8]\n",
            "[9, 10]\n",
            "[11, 10, 9, 8, 7, 6, 5, 4, 3, 2, 1]\n",
            "[1, 2, 3, 4, 5, 6, 7, 8, 9, 10, 11]\n"
          ]
        }
      ]
    },
    {
      "cell_type": "code",
      "metadata": {
        "colab": {
          "base_uri": "https://localhost:8080/"
        },
        "id": "8U3F4vhSPnnl",
        "outputId": "e944c96c-7f2c-4dc1-8fd0-4947ec091038"
      },
      "source": [
        "# Crear una lista con un generador \n",
        "numeros =[x*3 for x in range(101) ] # el for es un generador \n",
        "print(numeros)"
      ],
      "execution_count": 28,
      "outputs": [
        {
          "output_type": "stream",
          "name": "stdout",
          "text": [
            "[0, 3, 6, 9, 12, 15, 18, 21, 24, 27, 30, 33, 36, 39, 42, 45, 48, 51, 54, 57, 60, 63, 66, 69, 72, 75, 78, 81, 84, 87, 90, 93, 96, 99, 102, 105, 108, 111, 114, 117, 120, 123, 126, 129, 132, 135, 138, 141, 144, 147, 150, 153, 156, 159, 162, 165, 168, 171, 174, 177, 180, 183, 186, 189, 192, 195, 198, 201, 204, 207, 210, 213, 216, 219, 222, 225, 228, 231, 234, 237, 240, 243, 246, 249, 252, 255, 258, 261, 264, 267, 270, 273, 276, 279, 282, 285, 288, 291, 294, 297, 300]\n"
          ]
        }
      ]
    },
    {
      "cell_type": "markdown",
      "metadata": {
        "id": "Ayopu6_LQW-T"
      },
      "source": [
        "# funcion rango()\n",
        "\n",
        "tienen los mismo componentes que slicing \n",
        "ini , stop , incremento \n",
        "range(1,101,1)\n"
      ]
    },
    {
      "cell_type": "code",
      "metadata": {
        "colab": {
          "base_uri": "https://localhost:8080/"
        },
        "id": "ewCOYw4EQsXm",
        "outputId": "1b4d85a8-0b3f-4f2d-e1c7-80e1f7e4e284"
      },
      "source": [
        "numeros =[x for x in range(50, 101, 2) ] # patra empezar de un numero que quieras lo pones al principio \n",
        "print(numeros)                           # el ultimo numero 2 es como quieres que vaya "
      ],
      "execution_count": 30,
      "outputs": [
        {
          "output_type": "stream",
          "name": "stdout",
          "text": [
            "[50, 52, 54, 56, 58, 60, 62, 64, 66, 68, 70, 72, 74, 76, 78, 80, 82, 84, 86, 88, 90, 92, 94, 96, 98, 100]\n"
          ]
        }
      ]
    },
    {
      "cell_type": "markdown",
      "metadata": {
        "id": "ukuCGRRORIx4"
      },
      "source": [
        "# metodos disponibles de las listas "
      ]
    },
    {
      "cell_type": "code",
      "metadata": {
        "colab": {
          "base_uri": "https://localhost:8080/"
        },
        "id": "G7kqLLo8RN_C",
        "outputId": "3ebe758d-9183-4a84-f7b6-8c75f812e38c"
      },
      "source": [
        "dir(list)"
      ],
      "execution_count": 31,
      "outputs": [
        {
          "output_type": "execute_result",
          "data": {
            "text/plain": [
              "['__add__',\n",
              " '__class__',\n",
              " '__contains__',\n",
              " '__delattr__',\n",
              " '__delitem__',\n",
              " '__dir__',\n",
              " '__doc__',\n",
              " '__eq__',\n",
              " '__format__',\n",
              " '__ge__',\n",
              " '__getattribute__',\n",
              " '__getitem__',\n",
              " '__gt__',\n",
              " '__hash__',\n",
              " '__iadd__',\n",
              " '__imul__',\n",
              " '__init__',\n",
              " '__init_subclass__',\n",
              " '__iter__',\n",
              " '__le__',\n",
              " '__len__',\n",
              " '__lt__',\n",
              " '__mul__',\n",
              " '__ne__',\n",
              " '__new__',\n",
              " '__reduce__',\n",
              " '__reduce_ex__',\n",
              " '__repr__',\n",
              " '__reversed__',\n",
              " '__rmul__',\n",
              " '__setattr__',\n",
              " '__setitem__',\n",
              " '__sizeof__',\n",
              " '__str__',\n",
              " '__subclasshook__',\n",
              " 'append',\n",
              " 'clear',\n",
              " 'copy',\n",
              " 'count',\n",
              " 'extend',\n",
              " 'index',\n",
              " 'insert',\n",
              " 'pop',\n",
              " 'remove',\n",
              " 'reverse',\n",
              " 'sort']"
            ]
          },
          "metadata": {},
          "execution_count": 31
        }
      ]
    },
    {
      "cell_type": "markdown",
      "metadata": {
        "id": "kQO2V95CRm4f"
      },
      "source": [
        "count: recibe un valor cuantos elementos coinciden \n",
        "extend: contatenar listas \n",
        "index  los busca \n",
        "insert: resive dos variables \n",
        "pop: toma el ultimo elemnto y lo quita de la lsita y lo regresa\n",
        "remove: hace lo contario que insert quieta el elelmnto y si mueves a la izquierda lo mueve \n",
        "reverse: las pone en orden ineverso de lista \n",
        "sort: "
      ]
    },
    {
      "cell_type": "code",
      "metadata": {
        "colab": {
          "base_uri": "https://localhost:8080/"
        },
        "id": "hpD_wF5eSZgM",
        "outputId": "f3d0fe40-2aec-4de1-b314-c662cf1a456c"
      },
      "source": [
        "numeros =[4,1,15,8,22,34,50 ]\n",
        "print(numeros )\n",
        "numeros.append(99) # se agrego el numero 99\n",
        "print(numeros )\n",
        "#numeros.clear() hacerlos con este metodo \n",
        "#numeros = [ ]\n",
        "print(numeros )\n",
        "\n",
        "frutas =[\"uvas\",\"kiwi\",\"manzana\" ]\n",
        "copia = frutas \n",
        "print( frutas)\n",
        "print(copia )\n",
        "frutas.append(\"naranja\")\n",
        "print(frutas)\n",
        "print(copia)\n",
        "\n",
        "#esta uya hace una copia independientede la lista original esta ya no est afectada \n",
        "colores = [\"rojo\",\"azul\",\"blanco\"]\n",
        "copia2 = colores.copy()\n",
        "print(colores)\n",
        "print(copia2)\n",
        "colores.append(\"verde\")\n",
        "print(colores)\n",
        "print(copia2)\n",
        "\n",
        "print(\"numero de veces que aparce el 15=\", numeros.count(15))\n",
        "\n",
        "#extend \n",
        "\n",
        "nombres=[\"jose\", \"pedro\", \"karina\"]\n",
        "otrosNombres =[\"josue\",\"diana\", \"dalia\"]\n",
        "print(nombres)\n",
        "print(otrosNombres)\n",
        "\n",
        "nombre = nombres + otrosNombres\n",
        "print(nombres)\n",
        "print(otrosNombres)\n",
        "\n",
        "\n",
        "#lo mismo con el metodo extend \n",
        "otrosNombres.extend([\"jesus\",\"maria\",\"jose\"])\n",
        "print(otrosNombres)\n",
        "print(\"jesus esta en la posiscion:\", otrosNombres.index(\"jesus\") )\n",
        "otrosNombres.insert(4, \"espiritu santo\")\n",
        "print(otrosNombres)\n",
        "\n",
        "#pop\n",
        "resultado = otrosNombres.pop()\n",
        "print(otrosNombres)\n",
        "print(resultado)"
      ],
      "execution_count": 52,
      "outputs": [
        {
          "output_type": "stream",
          "name": "stdout",
          "text": [
            "[4, 1, 15, 8, 22, 34, 50]\n",
            "[4, 1, 15, 8, 22, 34, 50, 99]\n",
            "[4, 1, 15, 8, 22, 34, 50, 99]\n",
            "['uvas', 'kiwi', 'manzana']\n",
            "['uvas', 'kiwi', 'manzana']\n",
            "['uvas', 'kiwi', 'manzana', 'naranja']\n",
            "['uvas', 'kiwi', 'manzana', 'naranja']\n",
            "['rojo', 'azul', 'blanco']\n",
            "['rojo', 'azul', 'blanco']\n",
            "['rojo', 'azul', 'blanco', 'verde']\n",
            "['rojo', 'azul', 'blanco']\n",
            "numero de veces que aparce el 15= 1\n",
            "['jose', 'pedro', 'karina']\n",
            "['josue', 'diana', 'dalia']\n",
            "['jose', 'pedro', 'karina']\n",
            "['josue', 'diana', 'dalia']\n",
            "['josue', 'diana', 'dalia', 'jesus', 'maria', 'jose']\n",
            "jesus esta en la posiscion: 3\n",
            "['josue', 'diana', 'dalia', 'jesus', 'espiritu santo', 'maria', 'jose']\n",
            "['josue', 'diana', 'dalia', 'jesus', 'espiritu santo', 'maria']\n",
            "jose\n"
          ]
        }
      ]
    }
  ]
}